{
 "cells": [
  {
   "cell_type": "markdown",
   "id": "46afa018",
   "metadata": {},
   "source": [
    "## Introduction\n",
    "\n",
    "Many people would want to open a Sushi restaurant in Toronto. Indeed, when walking through the city Toronto, one can easily find many neighborhoods do not have Sushi restaurants yet. This appears to be a gap in the market. However, before opening a restaurant, we should consider some factors, for instance, the number of residents in the neighborhoods and residents' flavors. The residents' flavors could probably be driven by the neighborhood cultures. For example, many Asians could perfer to eat Sushi food. Overall, how to select a right neighborhood in Toronto to open a Sushi restaurant becomes an important business problem."
   ]
  }
 ],
 "metadata": {
  "kernelspec": {
   "display_name": "Python 3",
   "language": "python",
   "name": "python3"
  },
  "language_info": {
   "codemirror_mode": {
    "name": "ipython",
    "version": 3
   },
   "file_extension": ".py",
   "mimetype": "text/x-python",
   "name": "python",
   "nbconvert_exporter": "python",
   "pygments_lexer": "ipython3",
   "version": "3.7.4"
  }
 },
 "nbformat": 4,
 "nbformat_minor": 5
}
