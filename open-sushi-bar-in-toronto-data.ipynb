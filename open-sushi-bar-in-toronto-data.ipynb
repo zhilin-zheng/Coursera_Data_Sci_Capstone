{
 "cells": [
  {
   "cell_type": "markdown",
   "id": "032455a1",
   "metadata": {},
   "source": [
    "## Data\n",
    "\n",
    "As mentioned in section Introduction, how to select a right neighborhood in Toronto to open a Sushi restaurant becomes an important business problem. In order to address this problem, we can employ a data-driven approach. Many other North-American cities, for exmaple, New York City, has already had Sushi restaurants. We can compare Toronto's neighborhoods with their counterparts in New York City. First, we can select neighborhoods in New York City in which Sushi restaurants became popular. Second, we can find similar neighborhoods in Toronto as those selected New York City neighborhoods other than Sushi restaurants. The resulting neighborhoods could be potential candidates for a Sushi restaurant.\n",
    "\n",
    "### Neighborhoods data\n",
    "\n",
    "For Toronto, we can retrieve its neighborhoods data via wikipedia (https://en.wikipedia.org/wiki/List_of_postal_codes_of_Canada:_M).\n",
    "It will contain neighborhoods and their geographical information, such as latitude\tand longitude.\n",
    "See data sample below:\n",
    "\n",
    "| PostalCode |\tBorough |\tNeighborhood |\tLatitude |\tLongitude |\n",
    "|------------|----------|-------------|-----------|------------|\n",
    "| M3A\t|    North York\t| Parkwoods\t| 43.7532586 | -79.3296565 |\n",
    "| M4A\t| North York\t| Victoria Village |\t43.7258823\t| -79.3155716 |\n",
    "| M5A\t| Downtown Toronto |\tRegent Park, Harbourfront\t| 43.6542599\t| -79.3606359\n",
    "\n",
    "For New York City, we can get data from IBM Developer Skills Network (https://cf-courses-data.s3.us.cloud-object-storage.appdomain.cloud/IBMDeveloperSkillsNetwork-DS0701EN-SkillsNetwork/labs/newyork_data.json). It will contain neighborhoods and their geographical information too.\n",
    "\n",
    "### Foursquare data\n",
    "\n",
    "AS long as neighorhoods' geographical information is available, we can further explore each neighborhood via Foursquare API. This API will return what venues are located in each neighborhood, such as parks, gyms and cafés.\n",
    "Based on the venue data, we can then do clustering so that we can find which Toronto neighborhoods share the common venue patterns with their counterparts in New York City."
   ]
  }
 ],
 "metadata": {
  "kernelspec": {
   "display_name": "Python 3",
   "language": "python",
   "name": "python3"
  },
  "language_info": {
   "codemirror_mode": {
    "name": "ipython",
    "version": 3
   },
   "file_extension": ".py",
   "mimetype": "text/x-python",
   "name": "python",
   "nbconvert_exporter": "python",
   "pygments_lexer": "ipython3",
   "version": "3.7.4"
  }
 },
 "nbformat": 4,
 "nbformat_minor": 5
}
